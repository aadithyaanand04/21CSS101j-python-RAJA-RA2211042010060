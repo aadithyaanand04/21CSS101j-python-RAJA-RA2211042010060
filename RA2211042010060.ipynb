{
  "nbformat": 4,
  "nbformat_minor": 0,
  "metadata": {
    "colab": {
      "provenance": [],
      "authorship_tag": "ABX9TyPVFXLjd4qZ44ez+0ksSzOt",
      "include_colab_link": true
    },
    "kernelspec": {
      "name": "python3",
      "display_name": "Python 3"
    },
    "language_info": {
      "name": "python"
    }
  },
  "cells": [
    {
      "cell_type": "markdown",
      "metadata": {
        "id": "view-in-github",
        "colab_type": "text"
      },
      "source": [
        "<a href=\"https://colab.research.google.com/github/aadithyaanand04/21CSS101j-python-RAJA-RA2211042010060/blob/main/RA2211042010060.ipynb\" target=\"_parent\"><img src=\"https://colab.research.google.com/assets/colab-badge.svg\" alt=\"Open In Colab\"/></a>"
      ]
    },
    {
      "cell_type": "code",
      "execution_count": null,
      "metadata": {
        "colab": {
          "base_uri": "https://localhost:8080/"
        },
        "id": "7ivk1qnwKhe8",
        "outputId": "0feab89b-901c-47ae-8076-a2852f86f804"
      },
      "outputs": [
        {
          "output_type": "stream",
          "name": "stdout",
          "text": [
            "hi da mamkutty\n"
          ]
        }
      ],
      "source": [
        "print(\"hi da mamakutty\")"
      ]
    }
  ]
}