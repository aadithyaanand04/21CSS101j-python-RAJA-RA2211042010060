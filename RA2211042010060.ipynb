{
  "nbformat": 4,
  "nbformat_minor": 0,
  "metadata": {
    "colab": {
      "provenance": [],
      "authorship_tag": "ABX9TyPrMOafnITL2hyfaqbg+Lcc",
      "include_colab_link": true
    },
    "kernelspec": {
      "name": "python3",
      "display_name": "Python 3"
    },
    "language_info": {
      "name": "python"
    }
  },
  "cells": [
    {
      "cell_type": "markdown",
      "metadata": {
        "id": "view-in-github",
        "colab_type": "text"
      },
      "source": [
        "<a href=\"https://colab.research.google.com/github/aadithyaanand04/21CSS101j-python-RAJA-RA2211042010060/blob/main/RA2211042010060.ipynb\" target=\"_parent\"><img src=\"https://colab.research.google.com/assets/colab-badge.svg\" alt=\"Open In Colab\"/></a>"
      ]
    },
    {
      "cell_type": "code",
      "execution_count": 3,
      "metadata": {
        "colab": {
          "base_uri": "https://localhost:8080/"
        },
        "id": "7ivk1qnwKhe8",
        "outputId": "e6599b8f-3608-47ea-dfa4-1bdd12791d5b"
      },
      "outputs": [
        {
          "output_type": "stream",
          "name": "stdout",
          "text": [
            "hi da mamakutty\n"
          ]
        }
      ],
      "source": [
        "print(\"hi da mamakutty\")"
      ]
    },
    {
      "cell_type": "markdown",
      "source": [],
      "metadata": {
        "id": "beAl0iPqNUEf"
      }
    },
    {
      "cell_type": "code",
      "source": [
        "print(\"hey how are you\")"
      ],
      "metadata": {
        "colab": {
          "base_uri": "https://localhost:8080/"
        },
        "id": "JNGrMci-NUpf",
        "outputId": "38400af5-8793-48e7-e8ea-1a6c6a9782ec"
      },
      "execution_count": 4,
      "outputs": [
        {
          "output_type": "stream",
          "name": "stdout",
          "text": [
            "hey how are you\n"
          ]
        }
      ]
    },
    {
      "cell_type": "markdown",
      "source": [
        "display\n"
      ],
      "metadata": {
        "id": "SquGW6WjNy4L"
      }
    },
    {
      "cell_type": "code",
      "source": [
        "a = 1\n",
        "b = 5\n",
        "print(a)\n",
        "print(b)"
      ],
      "metadata": {
        "colab": {
          "base_uri": "https://localhost:8080/"
        },
        "id": "hHilPY9NNzDq",
        "outputId": "ba16e0cf-2c85-4c73-f0cb-01c4603d6154"
      },
      "execution_count": 5,
      "outputs": [
        {
          "output_type": "stream",
          "name": "stdout",
          "text": [
            "1\n",
            "5\n"
          ]
        }
      ]
    },
    {
      "cell_type": "markdown",
      "source": [
        "declaring variable\n"
      ],
      "metadata": {
        "id": "d9cm2W1QTZeV"
      }
    },
    {
      "cell_type": "code",
      "source": [
        "a = 3\n",
        "b = 4\n",
        "print(a+b)"
      ],
      "metadata": {
        "colab": {
          "base_uri": "https://localhost:8080/"
        },
        "id": "9qveJC2QTZoW",
        "outputId": "fb0b4300-d506-4211-b50e-38002b7cab36"
      },
      "execution_count": 6,
      "outputs": [
        {
          "output_type": "stream",
          "name": "stdout",
          "text": [
            "7\n"
          ]
        }
      ]
    },
    {
      "cell_type": "markdown",
      "source": [
        "addition"
      ],
      "metadata": {
        "id": "YYsvog4DT0MG"
      }
    },
    {
      "cell_type": "code",
      "source": [
        "a = 5\n",
        "b = 7\n",
        "print(a-b)"
      ],
      "metadata": {
        "colab": {
          "base_uri": "https://localhost:8080/"
        },
        "id": "2Xmj8CyGT7eg",
        "outputId": "22912630-a5d8-4949-fb2c-63a70ef245c5"
      },
      "execution_count": 7,
      "outputs": [
        {
          "output_type": "stream",
          "name": "stdout",
          "text": [
            "-2\n"
          ]
        }
      ]
    },
    {
      "cell_type": "markdown",
      "source": [
        "subtraction"
      ],
      "metadata": {
        "id": "33-rsQHCUFbJ"
      }
    },
    {
      "cell_type": "code",
      "source": [
        "a = 4\n",
        "b = 4 \n",
        "print(a*b)"
      ],
      "metadata": {
        "colab": {
          "base_uri": "https://localhost:8080/"
        },
        "id": "O4Ygx6e7UHHV",
        "outputId": "f28afdf2-965e-472d-d5c8-24a740762447"
      },
      "execution_count": 8,
      "outputs": [
        {
          "output_type": "stream",
          "name": "stdout",
          "text": [
            "16\n"
          ]
        }
      ]
    },
    {
      "cell_type": "markdown",
      "source": [
        "multiplication "
      ],
      "metadata": {
        "id": "KL3-OKfxUzXA"
      }
    },
    {
      "cell_type": "code",
      "source": [
        "a = 6\n",
        "b = 9\n",
        "print(a%b)"
      ],
      "metadata": {
        "colab": {
          "base_uri": "https://localhost:8080/"
        },
        "id": "hdnmLCZ0U3WR",
        "outputId": "0192f6b5-d4e9-4d3e-9bf6-430a4181149b"
      },
      "execution_count": 10,
      "outputs": [
        {
          "output_type": "stream",
          "name": "stdout",
          "text": [
            "6\n"
          ]
        }
      ]
    },
    {
      "cell_type": "code",
      "source": [
        "a = 9\n",
        "b = 3\n",
        "print(a/b)"
      ],
      "metadata": {
        "colab": {
          "base_uri": "https://localhost:8080/"
        },
        "id": "lHUtc0roXNKi",
        "outputId": "3063e83d-27b8-47f6-f636-aa88a9e547a8"
      },
      "execution_count": 11,
      "outputs": [
        {
          "output_type": "stream",
          "name": "stdout",
          "text": [
            "3.0\n"
          ]
        }
      ]
    },
    {
      "cell_type": "markdown",
      "source": [
        "division "
      ],
      "metadata": {
        "id": "nSB7ClumYCa-"
      }
    },
    {
      "cell_type": "code",
      "source": [
        "a = 4\n",
        "b = 7\n"
      ],
      "metadata": {
        "id": "tOjYzMppYDz4"
      },
      "execution_count": null,
      "outputs": []
    }
  ]
}